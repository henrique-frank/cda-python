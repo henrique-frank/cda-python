{
 "cells": [
  {
   "cell_type": "markdown",
   "metadata": {},
   "source": [
    "\n",
    "## Atalhos secretos do VS Code:\n",
    "\n",
    "1. Fechar todas as guias, exceto a atual: Ctrl + K, Ctrl + W\n",
    "2. Selecionar todas as correspondências na busca: Ctrl + Shift + L\n",
    "3. Mudar o tema do VS Code: Ctrl + K, Ctrl + T\n",
    "4. Expandir ou recolher um bloco de código: Ctrl + [ ou Ctrl + ]\n",
    "5. Colar uma linha inteira: Ctrl + V\n",
    "6. Abrir ou fechar a barra lateral: Ctrl + B\n",
    "7. Recortar uma linha inteira: Ctrl + X\n",
    "8. Comentar ou descomentar o código selecionado: Ctrl + /\n",
    "9. Ir para a definição de uma função ou variável: F12\n",
    "10. Abrir o arquivo recente: Ctrl + R, R"
   ]
  },
  {
   "cell_type": "markdown",
   "metadata": {},
   "source": []
  }
 ],
 "metadata": {
  "language_info": {
   "name": "python"
  }
 },
 "nbformat": 4,
 "nbformat_minor": 2
}
